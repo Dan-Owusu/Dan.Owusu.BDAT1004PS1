{
 "cells": [
  {
   "cell_type": "markdown",
   "id": "ead233a4",
   "metadata": {},
   "source": [
    "1. 5 = int\n",
    "2. 5.0 = double\n",
    "3. 5 > 1 = bool\n",
    "4. '5' = char\n",
    "5. 5*2 = int\n",
    "6. '5'+ 2 = int\n",
    "7. 5/2 = int\n",
    "8. 5%2 = int\n",
    "9. {5,2,1} = list\n",
    "10. 5==3 = bool\n",
    "11. 3.41 = double"
   ]
  },
  {
   "cell_type": "markdown",
   "id": "c9ff5048",
   "metadata": {},
   "source": [
    "2a."
   ]
  },
  {
   "cell_type": "code",
   "execution_count": 2,
   "id": "c5457216",
   "metadata": {},
   "outputs": [
    {
     "name": "stdout",
     "output_type": "stream",
     "text": [
      "34\r\n"
     ]
    }
   ],
   "source": [
    "string m = \"Supercalifragilisticexpialidocious\";\n",
    "Console.WriteLine(m.Length);"
   ]
  },
  {
   "cell_type": "markdown",
   "id": "40173042",
   "metadata": {},
   "source": [
    "2b."
   ]
  },
  {
   "cell_type": "code",
   "execution_count": 6,
   "id": "77306672",
   "metadata": {},
   "outputs": [
    {
     "name": "stdout",
     "output_type": "stream",
     "text": [
      "True\r\n"
     ]
    }
   ],
   "source": [
    "string m = \"Supercalifragilisticexpialidocious\";\n",
    "Console.WriteLine(m.Contains(\"ice\"));"
   ]
  },
  {
   "cell_type": "markdown",
   "id": "ef6e50b0",
   "metadata": {},
   "source": [
    "2C."
   ]
  },
  {
   "cell_type": "code",
   "execution_count": 45,
   "id": "a76ef2db",
   "metadata": {
    "scrolled": true
   },
   "outputs": [
    {
     "name": "stdout",
     "output_type": "stream",
     "text": [
      "Supercalifragilisticexpialidocious is the longest word\r\n"
     ]
    }
   ],
   "source": [
    "string first = \"Supercalifragilisticexpialidocious\";\n",
    "string second = \"Honorifcabilitudinitatibus\";\n",
    "string third = \"Bababadalgharaghtakamminarronkonn\";\n",
    "\n",
    "int countFirst = first.Length;\n",
    "int countSecond = second.Length;\n",
    "int countThird = third.Length;\n",
    "\n",
    "if (countFirst>countSecond)\n",
    "{\n",
    "    if (countFirst>countSecond)\n",
    "    {\n",
    "        Console.WriteLine(\"Supercalifragilisticexpialidocious is the longest word\", countFirst);\n",
    "    }\n",
    "    else\n",
    "    {\n",
    "        Console.WriteLine(\"Honorifcabilitudinitatibus is the longest word\", countFirst);\n",
    "    }\n",
    "}\n",
    "else\n",
    "{\n",
    "    if (countSecond>countThird)\n",
    "    {\n",
    "        Console.WriteLine(\"Honorifcabilitudinitatibus is teh longest word\", countSecond);\n",
    "    }\n",
    "    else\n",
    "    {\n",
    "        Console.WriteLine(\"Bababadalgharaghtakamminarronkonn is teh longest word\", countThird);\n",
    "    }\n",
    "}"
   ]
  },
  {
   "cell_type": "markdown",
   "id": "48f59ea5",
   "metadata": {},
   "source": [
    "2d."
   ]
  },
  {
   "cell_type": "code",
   "execution_count": 9,
   "id": "d269e772",
   "metadata": {},
   "outputs": [
    {
     "name": "stdout",
     "output_type": "stream",
     "text": [
      "Bartok\n",
      "Buxtehunde\n"
     ]
    }
   ],
   "source": [
    "SortedSet<string> set = new SortedSet<string>();\n",
    "set.Add(\"Berilioz\");\n",
    "set.Add(\"Borodin\");\n",
    "set.Add(\"Brian\");\n",
    "set.Add(\"Bartok\");\n",
    "set.Add(\"Bellini\");\n",
    "set.Add(\"Buxtehunde\");\n",
    "set.Add(\"Bernstein\");\n",
    "Console.WriteLine(set.First());\n",
    "Console.WriteLine(set.Last());"
   ]
  },
  {
   "cell_type": "markdown",
   "id": "2082eb6c",
   "metadata": {},
   "source": [
    "3."
   ]
  },
  {
   "cell_type": "code",
   "execution_count": 11,
   "id": "f8886069",
   "metadata": {},
   "outputs": [
    {
     "name": "stdout",
     "output_type": "stream",
     "text": [
      "1.7320508\r\n"
     ]
    }
   ],
   "source": [
    "float resultant = (float)triangleArea(2,2,2);\n",
    "Console.WriteLine(resultant);\n",
    " \n",
    "static double triangleArea(int a, int b, int c)\n",
    "{\n",
    "    double s = (a + b + c) / 2;\n",
    "    double resultant = Math.Sqrt(s * (s - a) * (s - b) * (s - c));\n",
    "    return resultant;\n",
    "}"
   ]
  },
  {
   "cell_type": "markdown",
   "id": "d8d88e7b",
   "metadata": {},
   "source": [
    "4."
   ]
  },
  {
   "cell_type": "code",
   "execution_count": 29,
   "id": "fc1e9391",
   "metadata": {},
   "outputs": [
    {
     "name": "stdout",
     "output_type": "stream",
     "text": [
      "The Even elements are: 42 56 32\n",
      "The Odd elements are: 25 47"
     ]
    }
   ],
   "source": [
    "int e;\n",
    "int[] arr = new int[]{25,47,42,56,32};\n",
    "\n",
    "Console.Write(\"The Even elements are:\");\n",
    "for (e = 0; e < 5; e++)\n",
    "{\n",
    "    if (arr[e] % 2 == 0)\n",
    "    {\n",
    "        Console.Write(\" \" + arr[e]);\n",
    "    }\n",
    "}\n",
    "Console.Write(\"\\nThe Odd elements are:\");\n",
    "for (e = 0; e < 5; e++)\n",
    "{\n",
    "    if (arr[e] % 2 != 0)\n",
    "    {\n",
    "        Console.Write(\" \" + arr[e]);\n",
    "    }\n",
    "}"
   ]
  },
  {
   "cell_type": "markdown",
   "id": "6bb2186b",
   "metadata": {},
   "source": [
    "5a."
   ]
  },
  {
   "cell_type": "code",
   "execution_count": null,
   "id": "798a59d0",
   "metadata": {},
   "outputs": [],
   "source": [
    "def(x,y,x1,y1,x2,y2) \n",
    "if x<x1 && y<1:\n",
    "if x<x1 && y<y1 && x<x2 && y<y2:"
   ]
  },
  {
   "cell_type": "markdown",
   "id": "02a2e034",
   "metadata": {},
   "source": [
    "5b."
   ]
  },
  {
   "cell_type": "code",
   "execution_count": null,
   "id": "66961ca6",
   "metadata": {},
   "outputs": [],
   "source": []
  },
  {
   "cell_type": "code",
   "execution_count": null,
   "id": "678c750b",
   "metadata": {},
   "outputs": [],
   "source": []
  }
 ],
 "metadata": {
  "kernelspec": {
   "display_name": ".NET (C#)",
   "language": "C#",
   "name": ".net-csharp"
  },
  "language_info": {
   "file_extension": ".cs",
   "mimetype": "text/x-csharp",
   "name": "C#",
   "pygments_lexer": "csharp",
   "version": "10.0"
  }
 },
 "nbformat": 4,
 "nbformat_minor": 5
}
