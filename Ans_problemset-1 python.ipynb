{
 "cells": [
  {
   "cell_type": "markdown",
   "id": "dcd37a64",
   "metadata": {},
   "source": [
    "6."
   ]
  },
  {
   "cell_type": "code",
   "execution_count": 7,
   "id": "6bb32b83",
   "metadata": {},
   "outputs": [
    {
     "name": "stdout",
     "output_type": "stream",
     "text": [
      "pighappy\n",
      "appyhay\n"
     ]
    }
   ],
   "source": [
    "wd = input('pig').lower()\n",
    "words = wd.split()\n",
    "\n",
    "for i, word in enumerate(words):\n",
    "    if word[0] in 'aeiou':\n",
    "        words[i] = words[i]+ \"way\"\n",
    "        \n",
    "else:\n",
    "    has_vowel = False\n",
    "    for j, letter in enumerate(word):\n",
    "        if letter in 'aeiou':\n",
    "            words[i] = word[j:] + word[:j] + \"ay\"\n",
    "pig = ' '.join(words)\n",
    "print(pig)"
   ]
  },
  {
   "cell_type": "markdown",
   "id": "1254a10e",
   "metadata": {},
   "source": [
    "7."
   ]
  },
  {
   "cell_type": "code",
   "execution_count": 25,
   "id": "8b92bdbf",
   "metadata": {},
   "outputs": [
    {
     "name": "stdout",
     "output_type": "stream",
     "text": [
      "There are 15 patients of blood type A.\n",
      "There are 1 patients of blood type B.\n",
      "There are 13 patients of blood type AB.\n",
      "There are 15 patients of blood type O.\n",
      "There are 0 patients of blood type OO.\n"
     ]
    }
   ],
   "source": [
    "infile = open('C:\\\\Users\\\\XST\\\\Downloads\\\\bloodtype1.txt')\n",
    "B=infile.read()\n",
    "infile.close()\n",
    "\n",
    "a =[0]*5\n",
    "bloodtype=['A','B','AB','O','OO']\n",
    "for i in bloodtype:\n",
    "    print(\"There are {} patients of blood type {}.\".format(C.count(i),i))"
   ]
  },
  {
   "cell_type": "markdown",
   "id": "dc2f5175",
   "metadata": {},
   "source": [
    "8."
   ]
  },
  {
   "cell_type": "code",
   "execution_count": 63,
   "id": "d9b636af",
   "metadata": {
    "scrolled": true
   },
   "outputs": [
    {
     "name": "stdout",
     "output_type": "stream",
     "text": [
      "['AUD', '1.0345157', 'Australian', 'Dollar', 'CHF', '1.0237414', 'Swiss', 'Franc', 'CNY', '0.1550176', 'Chinese', 'Yuan', 'DKK', '0.1651442', 'Danish', 'Krone', 'EUR', '1.2296544', 'Euro', 'GBP', '1.5550989', 'British', 'Pound', 'HKD', '0.1270207', 'Hong', 'Kong', 'Dollar', 'INR', '0.0177643', 'Indian', 'Rupee', 'JPY', '0.01241401', 'Japanese', 'Yen', 'MXN', '0.0751848', 'Mexican', 'Peso', 'MYR', '0.3145411', 'Malaysian', 'Ringgit', 'NOK', '0.1677063', 'Norwegian', 'Krone', 'NZD', '0.8003591', 'New', 'Zealand', 'Dollar', 'PHP', '0.0233234', 'Philippine', 'Peso', 'SEK', '0.148269', 'Swedish', 'Krona', 'SGD', '0.788871', 'Singapore', 'Dollar', 'THB', '0.0313789', 'Thai', 'Baht']\n",
      "16\n",
      "17\n",
      "245.93088\n"
     ]
    }
   ],
   "source": [
    "infile = open('C:\\\\Users\\\\XST\\\\Downloads\\\\currencies.txt')\n",
    "B = infile.read()\n",
    "infile.close()\n",
    "m = 'EUR'\n",
    "n = 200\n",
    "def curconv(input_currency,amount):\n",
    "    C = list(B.split())\n",
    "    print(C)\n",
    "    if input_currency in C:\n",
    "        print(C.index(input_currency))\n",
    "        d = C.index(input_currency) +1\n",
    "        print(d)\n",
    "        print(float(C[d])*amount)\n",
    "    \n",
    "curconv(m,n)\n"
   ]
  },
  {
   "cell_type": "markdown",
   "id": "46498a63",
   "metadata": {},
   "source": [
    "9."
   ]
  },
  {
   "cell_type": "markdown",
   "id": "6c345ba1",
   "metadata": {},
   "source": [
    "6 + 'a' = unsupported operand type(s) for +: 'int' and 'str'\n",
    "    \n",
    "    \n",
    "12th of 10 items = There are no type variables left in list[2, 7, 3, 45, 5, 6, 7, 7, 8, 8]\n",
    "\n",
    "\n",
    "math.sqrt(-1.0) = math domain error\n",
    "\n",
    "\n",
    "name 'x' is not defined\n",
    "\n",
    "\n",
    "opening a file which does not exist = Invalid argument"
   ]
  },
  {
   "cell_type": "markdown",
   "id": "b533f2c1",
   "metadata": {},
   "source": [
    "10."
   ]
  },
  {
   "cell_type": "code",
   "execution_count": 65,
   "id": "d7b58ee6",
   "metadata": {},
   "outputs": [
    {
     "name": "stdout",
     "output_type": "stream",
     "text": [
      "[1, 1, 1, 3, 5, 1, 1, 2, 1, 0, 1, 0, 1, 2, 4, 0, 1, 2, 0, 2, 1, 0, 1, 1, 0, 0, 1, 1, 1, 3, 5, 1, 1, 2, 1, 0, 1, 0, 1, 2, 4, 0, 1, 2, 0, 2, 1, 0, 1, 1, 0, 0]\n"
     ]
    }
   ],
   "source": [
    "alphabets = ['a','b','c','d','e','f','g','h','i','j','k','l','m','n','o','p','q','r','s','t','u','v','w','x','y','z']\n",
    "wd =('The quick red fox got bored and went home')\n",
    "for i in alphabets:\n",
    "    a.append(wd.count(i))\n",
    "print(a)    \n",
    "    "
   ]
  },
  {
   "cell_type": "code",
   "execution_count": null,
   "id": "fcfc813a",
   "metadata": {},
   "outputs": [],
   "source": []
  },
  {
   "cell_type": "code",
   "execution_count": null,
   "id": "7cddd6fe",
   "metadata": {},
   "outputs": [],
   "source": []
  }
 ],
 "metadata": {
  "kernelspec": {
   "display_name": "Python 3 (ipykernel)",
   "language": "python",
   "name": "python3"
  },
  "language_info": {
   "codemirror_mode": {
    "name": "ipython",
    "version": 3
   },
   "file_extension": ".py",
   "mimetype": "text/x-python",
   "name": "python",
   "nbconvert_exporter": "python",
   "pygments_lexer": "ipython3",
   "version": "3.9.12"
  }
 },
 "nbformat": 4,
 "nbformat_minor": 5
}
