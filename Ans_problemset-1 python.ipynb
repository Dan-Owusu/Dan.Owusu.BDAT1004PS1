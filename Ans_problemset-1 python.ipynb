{
 "cells": [
  {
   "cell_type": "markdown",
   "id": "dcd37a64",
   "metadata": {},
   "source": [
    "6."
   ]
  },
  {
   "cell_type": "code",
   "execution_count": 7,
   "id": "6bb32b83",
   "metadata": {},
   "outputs": [
    {
     "name": "stdout",
     "output_type": "stream",
     "text": [
      "pighappy\n",
      "appyhay\n"
     ]
    }
   ],
   "source": [
    "wd = input('pig').lower()\n",
    "words = wd.split()\n",
    "\n",
    "for i, word in enumerate(words):\n",
    "    if word[0] in 'aeiou':\n",
    "        words[i] = words[i]+ \"way\"\n",
    "        \n",
    "else:\n",
    "    has_vowel = False\n",
    "    for j, letter in enumerate(word):\n",
    "        if letter in 'aeiou':\n",
    "            words[i] = word[j:] + word[:j] + \"ay\"\n",
    "pig = ' '.join(words)\n",
    "print(pig)"
   ]
  },
  {
   "cell_type": "markdown",
   "id": "1254a10e",
   "metadata": {},
   "source": [
    "7."
   ]
  },
  {
   "cell_type": "code",
   "execution_count": 62,
   "id": "8b92bdbf",
   "metadata": {},
   "outputs": [
    {
     "name": "stdout",
     "output_type": "stream",
     "text": [
      "AB AB B O A A AB O AB A O O A A A O O O AB O A A A A A AB AB A AB O AB O A O O O AB O AB AB AB A A O \n",
      "\n"
     ]
    },
    {
     "ename": "NameError",
     "evalue": "name 'AB' is not defined",
     "output_type": "error",
     "traceback": [
      "\u001b[1;31m---------------------------------------------------------------------------\u001b[0m",
      "\u001b[1;31mNameError\u001b[0m                                 Traceback (most recent call last)",
      "Input \u001b[1;32mIn [62]\u001b[0m, in \u001b[0;36m<cell line: 9>\u001b[1;34m()\u001b[0m\n\u001b[0;32m      6\u001b[0m C\u001b[38;5;241m=\u001b[39mB\u001b[38;5;241m.\u001b[39msplit()\n\u001b[0;32m      8\u001b[0m a \u001b[38;5;241m=\u001b[39m[\u001b[38;5;241m0\u001b[39m]\u001b[38;5;241m*\u001b[39m\u001b[38;5;241m5\u001b[39m\n\u001b[1;32m----> 9\u001b[0m \u001b[38;5;28;01mif\u001b[39;00m \u001b[43mAB\u001b[49m \u001b[38;5;129;01min\u001b[39;00m C :\n\u001b[0;32m     10\u001b[0m     \u001b[38;5;28mprint\u001b[39m(\u001b[38;5;124m\"\u001b[39m\u001b[38;5;124mAB avaialable\u001b[39m\u001b[38;5;124m\"\u001b[39m)\n",
      "\u001b[1;31mNameError\u001b[0m: name 'AB' is not defined"
     ]
    }
   ],
   "source": [
    "infile = open('C:\\\\Users\\\\XST\\\\Downloads\\\\bloodtype1.txt')\n",
    "B=infile.read()\n",
    "infile.close()\n",
    "print(B)\n",
    "C=B.split()\n",
    "\n",
    "a =[0]*5\n",
    "bloodtype=['AB','A','B','O','OO']\n",
    "for i in C:\n",
    "    print(i)\n",
    "    if i in bloodtype:\n",
    "        print(\"AB avaialable\")\n"
   ]
  },
  {
   "cell_type": "markdown",
   "id": "dc2f5175",
   "metadata": {},
   "source": [
    "8."
   ]
  },
  {
   "cell_type": "code",
   "execution_count": 21,
   "id": "d9b636af",
   "metadata": {},
   "outputs": [
    {
     "ename": "SyntaxError",
     "evalue": "unexpected character after line continuation character (73847703.py, line 1)",
     "output_type": "error",
     "traceback": [
      "\u001b[1;36m  Input \u001b[1;32mIn [21]\u001b[1;36m\u001b[0m\n\u001b[1;33m    def curconv(C:\\Users\\XST\\Desktop\\sem_1\\currencies.txt):\u001b[0m\n\u001b[1;37m                   ^\u001b[0m\n\u001b[1;31mSyntaxError\u001b[0m\u001b[1;31m:\u001b[0m unexpected character after line continuation character\n"
     ]
    }
   ],
   "source": [
    "def curconv(C:\\):\n",
    "    "
   ]
  },
  {
   "cell_type": "markdown",
   "id": "46498a63",
   "metadata": {},
   "source": [
    "9."
   ]
  },
  {
   "cell_type": "code",
   "execution_count": null,
   "id": "7f9332fd",
   "metadata": {},
   "outputs": [],
   "source": []
  },
  {
   "cell_type": "markdown",
   "id": "ef87e2bc",
   "metadata": {},
   "source": [
    "10."
   ]
  },
  {
   "cell_type": "code",
   "execution_count": 33,
   "id": "d7b58ee6",
   "metadata": {},
   "outputs": [
    {
     "name": "stdout",
     "output_type": "stream",
     "text": [
      "[0, 0, 0, 0, 0, 0, 0, 0, 0, 0, 0, 0, 0, 0, 0, 0, 0, 0, 0, 0, 0, 0, 0, 0, 0, 0]\n"
     ]
    },
    {
     "ename": "NameError",
     "evalue": "name 'test_str' is not defined",
     "output_type": "error",
     "traceback": [
      "\u001b[1;31m---------------------------------------------------------------------------\u001b[0m",
      "\u001b[1;31mNameError\u001b[0m                                 Traceback (most recent call last)",
      "Input \u001b[1;32mIn [33]\u001b[0m, in \u001b[0;36m<cell line: 5>\u001b[1;34m()\u001b[0m\n\u001b[0;32m      3\u001b[0m alphabets \u001b[38;5;241m=\u001b[39m [\u001b[38;5;124m'\u001b[39m\u001b[38;5;124ma\u001b[39m\u001b[38;5;124m'\u001b[39m]\n\u001b[0;32m      4\u001b[0m all_freq \u001b[38;5;241m=\u001b[39m {}\n\u001b[1;32m----> 5\u001b[0m \u001b[38;5;28;01mfor\u001b[39;00m i \u001b[38;5;129;01min\u001b[39;00m \u001b[43mtest_str\u001b[49m:\n\u001b[0;32m      6\u001b[0m     \u001b[38;5;28;01mif\u001b[39;00m i \u001b[38;5;129;01min\u001b[39;00m all_freq:\n\u001b[0;32m      7\u001b[0m         all_freq[i] \u001b[38;5;241m+\u001b[39m\u001b[38;5;241m=\u001b[39m\u001b[38;5;241m1\u001b[39m\n",
      "\u001b[1;31mNameError\u001b[0m: name 'test_str' is not defined"
     ]
    }
   ],
   "source": [
    "a=[0]*26\n",
    "print(a)\n",
    "letters \n",
    "alphabets = ['a']\n",
    "all_freq = {}\n",
    "for i in test_str:\n",
    "    if i in all_freq:\n",
    "        all_freq[i] +=1\n",
    "    else:\n",
    "        all_freq[i] = 1"
   ]
  },
  {
   "cell_type": "code",
   "execution_count": null,
   "id": "fcfc813a",
   "metadata": {},
   "outputs": [],
   "source": []
  }
 ],
 "metadata": {
  "kernelspec": {
   "display_name": "Python 3 (ipykernel)",
   "language": "python",
   "name": "python3"
  },
  "language_info": {
   "codemirror_mode": {
    "name": "ipython",
    "version": 3
   },
   "file_extension": ".py",
   "mimetype": "text/x-python",
   "name": "python",
   "nbconvert_exporter": "python",
   "pygments_lexer": "ipython3",
   "version": "3.9.12"
  }
 },
 "nbformat": 4,
 "nbformat_minor": 5
}
